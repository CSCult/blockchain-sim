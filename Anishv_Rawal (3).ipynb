{
  "nbformat": 4,
  "nbformat_minor": 0,
  "metadata": {
    "colab": {
      "name": "Anishv_Rawal",
      "private_outputs": true,
      "provenance": [],
      "collapsed_sections": []
    },
    "kernelspec": {
      "name": "python3",
      "display_name": "Python 3"
    },
    "language_info": {
      "name": "python"
    }
  },
  "cells": [
    {
      "cell_type": "markdown",
      "metadata": {
        "id": "vjhEfiDNOrGK"
      },
      "source": [
        "**Anishv Rawal**\n",
        "\n",
        "**BlockChain Simulator**"
      ]
    },
    {
      "cell_type": "code",
      "metadata": {
        "id": "G7pG8Hv_NaUL"
      },
      "source": [
        "#importing the libraries\n",
        "import hashlib                \n",
        "from datetime import datetime       \n",
        "import random\n",
        "print(\"Setup Complete\")"
      ],
      "execution_count": null,
      "outputs": []
    },
    {
      "cell_type": "code",
      "metadata": {
        "id": "Zlg2i6ALNjpy"
      },
      "source": [
        "class Block():\n",
        "    def __init__(self,index, height, prev_hash, transactions,timestamp ,data):\n",
        "        self.index = index\n",
        "        self.height = height\n",
        "        self.prev_hash = prev_hash\n",
        "        self.transactions = transactions\n",
        "        self.timestamp = timestamp\n",
        "        self.data = data\n",
        "        self.hash = hash"
      ],
      "execution_count": null,
      "outputs": []
    },
    {
      "cell_type": "code",
      "metadata": {
        "id": "JR3yMtRWNuF0"
      },
      "source": [
        "BlockChain = []"
      ],
      "execution_count": null,
      "outputs": []
    },
    {
      "cell_type": "code",
      "metadata": {
        "id": "OC7wiFi5Nwgx"
      },
      "source": [
        "def hashing(self, s):\n",
        "    self.s =s\n",
        "    self.hashValue = hashlib.sha256(value.encode('utf-8')).hexdigest()"
      ],
      "execution_count": null,
      "outputs": []
    },
    {
      "cell_type": "code",
      "metadata": {
        "id": "VNQcQ1U0Nw-A"
      },
      "source": [
        "def hash(self, string):\n",
        "    string = string.encode()\n",
        "    sha = hashlib.sha256(string).hexdigest()\n",
        "    return sha"
      ],
      "execution_count": null,
      "outputs": []
    },
    {
      "cell_type": "code",
      "metadata": {
        "id": "QJbY3GAiNy6l"
      },
      "source": [
        "def merkle_root_hash(self, transactions):\n",
        "        if (len(transactions) == 1):\n",
        "            return transactions[0]\n",
        "        # New list for storing merkle root hashes\n",
        "        newtransactions = []\n",
        "        for i in range(0, len(transactions)-1, 2):\n",
        "            newtransactions.append(self.hashing(str(transactions[i]) + str(transactions[i+1])))\n",
        "        if len(transactions)%2 == 1:\n",
        "            newtransactions.append(self.hashing(str(transactions[-1]) + str(transactions[-1])))\n",
        "        return self.merkle_root_hash(newtransactions)"
      ],
      "execution_count": null,
      "outputs": []
    },
    {
      "cell_type": "code",
      "metadata": {
        "id": "NhjAhJNEN14U"
      },
      "source": [
        "def create_genesis_block():\n",
        "    return Block(0, datetime.now(), \"Genesis Block\", \"0\",'transactions')"
      ],
      "execution_count": null,
      "outputs": []
    },
    {
      "cell_type": "code",
      "metadata": {
        "id": "abQxY7VyN4H8"
      },
      "source": [
        "BlockChain.append(create_genesis_block())"
      ],
      "execution_count": null,
      "outputs": []
    },
    {
      "cell_type": "code",
      "metadata": {
        "id": "jMG_iMCXOLas"
      },
      "source": [
        "def next_block(last_block):\n",
        "    this_index = last_block.index + 1\n",
        "    this_timestamp = datetime.now()\n",
        "    this_data = \"block no. {}\".format(this_index)\n",
        "    this_hash = last_block.hash\n",
        "    \n",
        "    return Block(this_index, this_timestamp, this_data,this_hash,)"
      ],
      "execution_count": null,
      "outputs": []
    },
    {
      "cell_type": "code",
      "metadata": {
        "id": "5n30unCTOQRV"
      },
      "source": [
        "for i in range(0,20):\n",
        "    BlockChain.append(next_block(BlockChain[-1]))"
      ],
      "execution_count": null,
      "outputs": []
    },
    {
      "cell_type": "code",
      "metadata": {
        "id": "vWWVbA2tOTd2"
      },
      "source": [
        "for item in BlockChain:\n",
        "    print(item.data)"
      ],
      "execution_count": null,
      "outputs": []
    }
  ]
}