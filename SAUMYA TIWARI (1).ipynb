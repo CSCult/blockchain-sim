{
 "cells": [
  {
   "cell_type": "markdown",
   "metadata": {},
   "source": [
    "## SAUMYA TIWARI\n",
    "## EN19CS303047"
   ]
  },
  {
   "cell_type": "markdown",
   "metadata": {},
   "source": [
    "## BLOCKCHAIN SIMULATOR (CSCult)"
   ]
  },
  {
   "cell_type": "code",
   "execution_count": 13,
   "metadata": {},
   "outputs": [
    {
     "name": "stdout",
     "output_type": "stream",
     "text": [
      "\n",
      "Block #1 has been added to the Myblockchain!\n",
      " \t\t__________\n",
      " \t\tHash: c5b8789725e5190e7de01e4af85706934138190c4febaf2006b856d082714761 | Height of Block: 1 | Timestamp: 2021-08-08 16:47:41.633205 | Previous Root Hash: e617c0d12b9a0cebd6ee9cff4bcb8b0cf4da8f23b2a1baf655f6e973539ffcda | Transactions: [46, 52, 20, 29, 11, 80, 100, 94, 83, 92] | Transaction Counter: 10 | Merkle Root Hash: a647ba2842c1c7cfff660ac02baa1bd6ef06572eba02ce3d597cc78216bc000a \t\t__________\n",
      "\n",
      "Block #2 has been added to the Myblockchain!\n",
      " \t\t__________\n",
      " \t\tHash: 38a747fbe5c2cbbf98713b2ad0bd7c8a3ff0f2da9a5d48566bd1581cf5500777 | Height of Block: 2 | Timestamp: 2021-08-08 16:47:41.633725 | Previous Root Hash: c5b8789725e5190e7de01e4af85706934138190c4febaf2006b856d082714761 | Transactions: [99, 67, 92, 86, 3, 28, 27, 3, 90, 63] | Transaction Counter: 10 | Merkle Root Hash: 6e53e152d2741d60165c66f184e8ca980da2485c39a0c9485c0da20699a48e03 \t\t__________\n",
      "\n",
      "Block #3 has been added to the Myblockchain!\n",
      " \t\t__________\n",
      " \t\tHash: 8d120262805aadaaaff94eac6ddd5f3e11d58fb700a0616913af831deb07cd5c | Height of Block: 3 | Timestamp: 2021-08-08 16:47:41.634206 | Previous Root Hash: 38a747fbe5c2cbbf98713b2ad0bd7c8a3ff0f2da9a5d48566bd1581cf5500777 | Transactions: [53, 44, 66, 70, 23, 52, 35, 21, 17, 15] | Transaction Counter: 10 | Merkle Root Hash: 36c1655b294c4b0d12e312a2e20e73d8b3efb78dddc475ba1e9a8aa84a947165 \t\t__________\n",
      "\n",
      "Block #4 has been added to the Myblockchain!\n",
      " \t\t__________\n",
      " \t\tHash: 2ab9a2e7ece09f1d0ea7822abf2c8e0ba73d13ea61f0655091642448e92845b5 | Height of Block: 4 | Timestamp: 2021-08-08 16:47:41.634477 | Previous Root Hash: 8d120262805aadaaaff94eac6ddd5f3e11d58fb700a0616913af831deb07cd5c | Transactions: [75, 51, 23, 25, 23, 21, 33, 94, 11, 29] | Transaction Counter: 10 | Merkle Root Hash: 21591633461e467b9894876fbc1f5f21310d7a7ae18655fe9493d062da20f4e2 \t\t__________\n",
      "\n",
      "Block #5 has been added to the Myblockchain!\n",
      " \t\t__________\n",
      " \t\tHash: cc4f043a7fb0341eed31635d91254a238a44c4017745c171e79518410a0f02c0 | Height of Block: 5 | Timestamp: 2021-08-08 16:47:41.636936 | Previous Root Hash: 2ab9a2e7ece09f1d0ea7822abf2c8e0ba73d13ea61f0655091642448e92845b5 | Transactions: [76, 35, 80, 47, 69, 42, 92, 25, 54, 30] | Transaction Counter: 10 | Merkle Root Hash: 8f66bec7b87ba4441c9818a573c4b16e3096d65a7bcfcb00886d9ca3d995ce7b \t\t__________\n",
      "\n",
      "Block #6 has been added to the Myblockchain!\n",
      " \t\t__________\n",
      " \t\tHash: ac77e8b0b044ff86044c1e12b48651cfade508070b487527b577eac05df2c7c6 | Height of Block: 6 | Timestamp: 2021-08-08 16:47:41.638130 | Previous Root Hash: cc4f043a7fb0341eed31635d91254a238a44c4017745c171e79518410a0f02c0 | Transactions: [44, 32, 66, 78, 79, 20, 45, 87, 20, 33] | Transaction Counter: 10 | Merkle Root Hash: 8b14f6e929163c313cc6f14ab77f7fdc002406cfd682e3ff24f0c2ab98a780fe \t\t__________\n",
      "\n",
      "Block #7 has been added to the Myblockchain!\n",
      " \t\t__________\n",
      " \t\tHash: b49f565c68984f087a15a4ec19b40e6a1c3fbd19a297f1f27284c398e2d69342 | Height of Block: 7 | Timestamp: 2021-08-08 16:47:41.638931 | Previous Root Hash: ac77e8b0b044ff86044c1e12b48651cfade508070b487527b577eac05df2c7c6 | Transactions: [76, 49, 72, 73, 56, 20, 45, 34, 87, 17] | Transaction Counter: 10 | Merkle Root Hash: b108565620df3928aa86c3eaf4f690e619a62880edf426e3985fc54e045a7629 \t\t__________\n",
      "\n",
      "Block #8 has been added to the Myblockchain!\n",
      " \t\t__________\n",
      " \t\tHash: 0e65b92fe303b80fad3fd5b1b502c46c4cce710b31fd1f6e7fc3ec25f08b3f5c | Height of Block: 8 | Timestamp: 2021-08-08 16:47:41.639245 | Previous Root Hash: b49f565c68984f087a15a4ec19b40e6a1c3fbd19a297f1f27284c398e2d69342 | Transactions: [78, 18, 46, 65, 8, 70, 34, 56, 3, 21] | Transaction Counter: 10 | Merkle Root Hash: 3cecf0bd480382356bd7e59692a65ec08b9f278cb2737056c2ce89840cf05561 \t\t__________\n",
      "\n",
      "Block #9 has been added to the Myblockchain!\n",
      " \t\t__________\n",
      " \t\tHash: 5f02ca7a61d0bfd877137356d4360d16d05c32e723266ee63ed48db661fd7829 | Height of Block: 9 | Timestamp: 2021-08-08 16:47:41.642903 | Previous Root Hash: 0e65b92fe303b80fad3fd5b1b502c46c4cce710b31fd1f6e7fc3ec25f08b3f5c | Transactions: [39, 14, 6, 17, 22, 13, 23, 83, 4, 36] | Transaction Counter: 10 | Merkle Root Hash: 9e289135441652de51a7fc386708e17c1baa64b86828ce2b3eaba7874a2c3969 \t\t__________\n",
      "\n",
      "Block #10 has been added to the Myblockchain!\n",
      " \t\t__________\n",
      " \t\tHash: 48d5b7ad9212832bea42f65f89b29a01db93816fa87b7a009aebe6320c0fed84 | Height of Block: 10 | Timestamp: 2021-08-08 16:47:41.644301 | Previous Root Hash: 5f02ca7a61d0bfd877137356d4360d16d05c32e723266ee63ed48db661fd7829 | Transactions: [82, 70, 32, 23, 61, 61, 55, 82, 27, 15] | Transaction Counter: 10 | Merkle Root Hash: 751090dc9fb346272134f97d70464d24d14ceeb4d3e91873871f6b525d518136 \t\t__________\n"
     ]
    }
   ],
   "source": [
    "import hashlib                 \n",
    "import datetime as date        \n",
    "import random  \n",
    "class Block():\n",
    "    def __init__(self, height, timestamp, prev_hash, txs):\n",
    "        self.height = height\n",
    "        self.timestamp = timestamp\n",
    "        self.prev_hash = prev_hash\n",
    "        self.hash = self.hash_block()\n",
    "        self.transactions = txs\n",
    "        self.tx_ctr = len(txs)\n",
    "        self.merkle = self.merkle_root_hash(self.transactions)\n",
    "        \n",
    "    def hashing(self, string):\n",
    "        string = string.encode()\n",
    "        sha = hashlib.sha256(string).hexdigest()\n",
    "        return sha\n",
    "    def hash_block(self):\n",
    "        string = str(self.height) + str(self.timestamp) + str(self.prev_hash)\n",
    "        return self.hashing(string)\n",
    "    def merkle_root_hash(self, txs):\n",
    "        if (len(txs) == 1):\n",
    "            return txs[0]\n",
    "        txs_new = []\n",
    "        for i in range(0, len(txs)-1, 2):\n",
    "            txs_new.append(self.hashing(str(txs[i]) + str(txs[i+1])))\n",
    "        if len(txs)%2 == 1:\n",
    "            txs_new.append(self.hashing(str(txs[-1]) + str(txs[-1])))\n",
    "        return self.merkle_root_hash(txs_new)\n",
    "def create_genesis_block():\n",
    "    return Block(0, date.datetime.now(), \"0\", [random.randint(1,1000) for _ in range(10)])\n",
    "def next_block(last_block):\n",
    "    this_height = last_block.height + 1\n",
    "    this_timestamp = date.datetime.now()\n",
    "    this_hash = last_block.hash\n",
    "    this_txs = [random.randint(1,100) for _ in range(10)]\n",
    "    return Block(this_height, this_timestamp, this_hash, this_txs)\n",
    "if __name__==\"__main__\":\n",
    "    Myblockchain = [create_genesis_block()]\n",
    "    previous_block = Myblockchain[0]\n",
    "    no_of_block = 10\n",
    "for i in range(1, no_of_block +1):\n",
    "    block_addition = next_block(previous_block)\n",
    "    Myblockchain.append(block_addition)\n",
    "    previous_block = block_addition\n",
    "    print(\n",
    "        (f\"\\nBlock #{i} has been added to the Myblockchain!\\n\"),\n",
    "        (\"\\t\\t{}\\n\".format(\"_\"*10)),\n",
    "        (f\"\\t\\tHash: {block_addition.hash}\"),\n",
    "        (f\"| Height of Block: {block_addition.height}\"),\n",
    "        (f\"| Timestamp: {block_addition.timestamp}\"),\n",
    "        (f\"| Previous Root Hash: {block_addition.prev_hash}\"),\n",
    "        (f\"| Transactions: {block_addition.transactions}\"),\n",
    "        (f\"| Transaction Counter: {block_addition.tx_ctr}\"),\n",
    "        (f\"| Merkle Root Hash: {block_addition.merkle}\"),\n",
    "        (\"\\t\\t{}\".format(\"_\"*10))\n",
    "    )\n",
    "\n",
    "    \n",
    "    "
   ]
  },
  {
   "cell_type": "code",
   "execution_count": null,
   "metadata": {},
   "outputs": [],
   "source": []
  },
  {
   "cell_type": "code",
   "execution_count": null,
   "metadata": {},
   "outputs": [],
   "source": []
  }
 ],
 "metadata": {
  "kernelspec": {
   "display_name": "Python 3",
   "language": "python",
   "name": "python3"
  },
  "language_info": {
   "codemirror_mode": {
    "name": "ipython",
    "version": 3
   },
   "file_extension": ".py",
   "mimetype": "text/x-python",
   "name": "python",
   "nbconvert_exporter": "python",
   "pygments_lexer": "ipython3",
   "version": "3.6.13"
  }
 },
 "nbformat": 4,
 "nbformat_minor": 2
}
